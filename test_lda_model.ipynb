{
  "nbformat": 4,
  "nbformat_minor": 0,
  "metadata": {
    "colab": {
      "name": "test_lda_model.ipynb",
      "provenance": [],
      "collapsed_sections": []
    },
    "kernelspec": {
      "name": "python3",
      "display_name": "Python 3"
    },
    "language_info": {
      "name": "python"
    }
  },
  "cells": [
    {
      "cell_type": "markdown",
      "source": [
        "# Test"
      ],
      "metadata": {
        "id": "GcA7WuxMUgDm"
      }
    },
    {
      "cell_type": "code",
      "source": [
        "!pip install pyLDAvis"
      ],
      "metadata": {
        "colab": {
          "base_uri": "https://localhost:8080/"
        },
        "id": "qyE30J_dSnjV",
        "outputId": "6cc24010-a3c4-4fc5-c2ea-fb00040639a6"
      },
      "execution_count": 1,
      "outputs": [
        {
          "output_type": "stream",
          "name": "stdout",
          "text": [
            "Requirement already satisfied: pyLDAvis in /usr/local/lib/python3.7/dist-packages (3.3.1)\n",
            "Requirement already satisfied: future in /usr/local/lib/python3.7/dist-packages (from pyLDAvis) (0.16.0)\n",
            "Requirement already satisfied: numpy>=1.20.0 in /usr/local/lib/python3.7/dist-packages (from pyLDAvis) (1.21.5)\n",
            "Requirement already satisfied: sklearn in /usr/local/lib/python3.7/dist-packages (from pyLDAvis) (0.0)\n",
            "Requirement already satisfied: numexpr in /usr/local/lib/python3.7/dist-packages (from pyLDAvis) (2.8.1)\n",
            "Requirement already satisfied: gensim in /usr/local/lib/python3.7/dist-packages (from pyLDAvis) (3.6.0)\n",
            "Requirement already satisfied: jinja2 in /usr/local/lib/python3.7/dist-packages (from pyLDAvis) (2.11.3)\n",
            "Requirement already satisfied: joblib in /usr/local/lib/python3.7/dist-packages (from pyLDAvis) (1.1.0)\n",
            "Requirement already satisfied: pandas>=1.2.0 in /usr/local/lib/python3.7/dist-packages (from pyLDAvis) (1.3.5)\n",
            "Requirement already satisfied: funcy in /usr/local/lib/python3.7/dist-packages (from pyLDAvis) (1.17)\n",
            "Requirement already satisfied: setuptools in /usr/local/lib/python3.7/dist-packages (from pyLDAvis) (57.4.0)\n",
            "Requirement already satisfied: scikit-learn in /usr/local/lib/python3.7/dist-packages (from pyLDAvis) (1.0.2)\n",
            "Requirement already satisfied: scipy in /usr/local/lib/python3.7/dist-packages (from pyLDAvis) (1.4.1)\n",
            "Requirement already satisfied: python-dateutil>=2.7.3 in /usr/local/lib/python3.7/dist-packages (from pandas>=1.2.0->pyLDAvis) (2.8.2)\n",
            "Requirement already satisfied: pytz>=2017.3 in /usr/local/lib/python3.7/dist-packages (from pandas>=1.2.0->pyLDAvis) (2018.9)\n",
            "Requirement already satisfied: six>=1.5 in /usr/local/lib/python3.7/dist-packages (from python-dateutil>=2.7.3->pandas>=1.2.0->pyLDAvis) (1.15.0)\n",
            "Requirement already satisfied: smart-open>=1.2.1 in /usr/local/lib/python3.7/dist-packages (from gensim->pyLDAvis) (5.2.1)\n",
            "Requirement already satisfied: MarkupSafe>=0.23 in /usr/local/lib/python3.7/dist-packages (from jinja2->pyLDAvis) (2.0.1)\n",
            "Requirement already satisfied: packaging in /usr/local/lib/python3.7/dist-packages (from numexpr->pyLDAvis) (21.3)\n",
            "Requirement already satisfied: pyparsing!=3.0.5,>=2.0.2 in /usr/local/lib/python3.7/dist-packages (from packaging->numexpr->pyLDAvis) (3.0.8)\n",
            "Requirement already satisfied: threadpoolctl>=2.0.0 in /usr/local/lib/python3.7/dist-packages (from scikit-learn->pyLDAvis) (3.1.0)\n"
          ]
        }
      ]
    },
    {
      "cell_type": "code",
      "execution_count": 2,
      "metadata": {
        "colab": {
          "base_uri": "https://localhost:8080/"
        },
        "id": "vxQyCsMVNAbG",
        "outputId": "10b3ae20-1ac7-4fd5-f336-efd1c9e45f5e"
      },
      "outputs": [
        {
          "output_type": "stream",
          "name": "stdout",
          "text": [
            "Requirement already satisfied: import-ipynb in /usr/local/lib/python3.7/dist-packages (0.1.3)\n"
          ]
        }
      ],
      "source": [
        "!pip install import-ipynb\n",
        "import import_ipynb"
      ]
    },
    {
      "cell_type": "code",
      "source": [
        "from dataset import Dataset\n",
        "from data_cleaning import Data_Cleaning\n",
        "from data_preprocessing import Data_Preprocessing\n",
        "from utils import *\n",
        "from test_utils import *"
      ],
      "metadata": {
        "colab": {
          "base_uri": "https://localhost:8080/"
        },
        "id": "AlX14eeRNJIS",
        "outputId": "1d7a3914-0fdf-42d5-b52b-ad4c62e5069c"
      },
      "execution_count": 3,
      "outputs": [
        {
          "output_type": "stream",
          "name": "stdout",
          "text": [
            "importing Jupyter notebook from dataset.ipynb\n",
            "importing Jupyter notebook from data_cleaning.ipynb\n",
            "importing Jupyter notebook from data_preprocessing.ipynb\n",
            "[nltk_data] Downloading package stopwords to /root/nltk_data...\n",
            "[nltk_data]   Package stopwords is already up-to-date!\n",
            "[nltk_data] Downloading package punkt to /root/nltk_data...\n",
            "[nltk_data]   Package punkt is already up-to-date!\n",
            "[nltk_data] Downloading package wordnet to /root/nltk_data...\n",
            "[nltk_data]   Package wordnet is already up-to-date!\n",
            "importing Jupyter notebook from utils.ipynb\n"
          ]
        },
        {
          "output_type": "stream",
          "name": "stderr",
          "text": [
            "/usr/local/lib/python3.7/dist-packages/past/types/oldstr.py:5: DeprecationWarning: Using or importing the ABCs from 'collections' instead of from 'collections.abc' is deprecated since Python 3.3,and in 3.9 it will stop working\n",
            "  from collections import Iterable\n"
          ]
        },
        {
          "output_type": "stream",
          "name": "stdout",
          "text": [
            "Requirement already satisfied: import-ipynb in /usr/local/lib/python3.7/dist-packages (0.1.3)\n",
            "importing Jupyter notebook from test_utils.ipynb\n"
          ]
        }
      ]
    },
    {
      "cell_type": "code",
      "source": [
        "lda_model = load_model(\"bettter_lda_model\")\n",
        "all_topics = show_model_topics(lda_model)"
      ],
      "metadata": {
        "colab": {
          "base_uri": "https://localhost:8080/"
        },
        "id": "O_BWHX2gNJPd",
        "outputId": "553192f8-5df5-423d-c188-83cb46d1109a"
      },
      "execution_count": 4,
      "outputs": [
        {
          "output_type": "stream",
          "name": "stdout",
          "text": [
            "0: covid19 infection pandemic sarscov2 disease vaccine virus case respiratory sample\n",
            "1: effect concentration surface study water result using activity used sample\n",
            "2: patient treatment clinical group study outcome case trial pain surgery\n",
            "3: specie sp new nov genus described two based distribution region\n",
            "4: study risk year among health associated age child factor woman\n",
            "5: health study research review intervention data quality patient service social\n",
            "6: ± teeth oil asd temperature ph cvd gc dental airway\n",
            "7: disease cell gene expression cancer tumor patient level study treatment\n",
            "8: cell protein mechanism gene role study pathway development interaction effect\n",
            "9: patient p group cancer study 95 level significantly day treatment\n",
            "10: environmental effect soil fish water change pollution impact production sex\n",
            "11: model method data using system result used analysis based performance\n"
          ]
        }
      ]
    },
    {
      "cell_type": "markdown",
      "source": [
        "## Assign 3 topics for each input document\n",
        "\n"
      ],
      "metadata": {
        "id": "fgU9SlwB_JM2"
      }
    },
    {
      "cell_type": "code",
      "source": [
        "# est any other text\n",
        "text = \"\"\"In recent years, researchTrusted Source has suggested that levels of mental stress \n",
        "influence gut bacteria composition and play a key role in IBS via the gut-brain axis.\n",
        "\"\"\"\n",
        "test(text, lda_model, all_topics)"
      ],
      "metadata": {
        "id": "LkrTTD1nLKTp",
        "colab": {
          "base_uri": "https://localhost:8080/"
        },
        "outputId": "78be6210-71ad-4a6f-ebbc-9ccc594da12e"
      },
      "execution_count": 14,
      "outputs": [
        {
          "output_type": "stream",
          "name": "stdout",
          "text": [
            "topic nuber:  1  with index:  12  and probability:  0.15219547  is:  model method data using system result used analysis based performance\n",
            "topic nuber:  2  with index:  6  and probability:  0.12665182  is:  health study research review intervention data quality patient service social\n",
            "topic nuber:  3  with index:  5  and probability:  0.11194792  is:  study risk year among health associated age child factor woman\n",
            "=============================================================================================================\n"
          ]
        }
      ]
    },
    {
      "cell_type": "markdown",
      "source": [
        "## To see the assigned topic for dataset documents, run the following cells and uncomment the last one"
      ],
      "metadata": {
        "id": "ziDLBziMGBO3"
      }
    },
    {
      "cell_type": "code",
      "source": [
        "# mount drive to read dataset from it\n",
        "from google.colab import drive\n",
        "drive.mount('/content/drive')"
      ],
      "metadata": {
        "colab": {
          "base_uri": "https://localhost:8080/"
        },
        "id": "YWAFqyog8WXV",
        "outputId": "91219a6e-cbe4-483b-f658-b370a26cfc6f"
      },
      "execution_count": 6,
      "outputs": [
        {
          "output_type": "stream",
          "name": "stdout",
          "text": [
            "Drive already mounted at /content/drive; to attempt to forcibly remount, call drive.mount(\"/content/drive\", force_remount=True).\n"
          ]
        }
      ]
    },
    {
      "cell_type": "code",
      "source": [
        "path = \"/content/drive/MyDrive/Pubmed5k.xlsx\""
      ],
      "metadata": {
        "id": "IUFAYH8L8Wdt"
      },
      "execution_count": 7,
      "outputs": []
    },
    {
      "cell_type": "code",
      "source": [
        "#init a constructor from Dataset class\n",
        "ds = Dataset(path)\n",
        "# read the entire original dataset\n",
        "dataset = ds.read_data()"
      ],
      "metadata": {
        "id": "pQFh9sL58WkA"
      },
      "execution_count": 8,
      "outputs": []
    },
    {
      "cell_type": "code",
      "source": [
        "# set only the column which contain the texts ( here it is \"Abstract\")\n",
        "remove_columns_list=['ArticleID', 'Title']\n",
        "texts = ds.get_text_column(dataset, remove_columns_list)"
      ],
      "metadata": {
        "id": "z6gF9lTB8Wp-"
      },
      "execution_count": 9,
      "outputs": []
    },
    {
      "cell_type": "code",
      "source": [
        "#convert dataframe into list\n",
        "texts = texts.Abstract.values.tolist()"
      ],
      "metadata": {
        "id": "RklFOSkl8Wut"
      },
      "execution_count": 10,
      "outputs": []
    },
    {
      "cell_type": "code",
      "source": [
        "# assign topics for all 5000 documen in dataset\n",
        "# test(texts)"
      ],
      "metadata": {
        "id": "RqWQhPTyK6Vx"
      },
      "execution_count": 11,
      "outputs": []
    },
    {
      "cell_type": "code",
      "source": [
        ""
      ],
      "metadata": {
        "id": "iIp07JvswGRE"
      },
      "execution_count": 11,
      "outputs": []
    }
  ]
}