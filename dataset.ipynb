{
  "nbformat": 4,
  "nbformat_minor": 0,
  "metadata": {
    "colab": {
      "name": "dataset.ipynb",
      "provenance": []
    },
    "kernelspec": {
      "name": "python3",
      "display_name": "Python 3"
    },
    "language_info": {
      "name": "python"
    }
  },
  "cells": [
    {
      "cell_type": "code",
      "source": [
        "import pandas as pd"
      ],
      "metadata": {
        "id": "eIUSDEkNqTfq"
      },
      "execution_count": 2,
      "outputs": []
    },
    {
      "cell_type": "code",
      "execution_count": 1,
      "metadata": {
        "id": "gHixhJYvqP2E"
      },
      "outputs": [],
      "source": [
        "class Dataset():\n",
        "  def __init__(self, path):\n",
        "    self.path = path\n",
        "    \n",
        "  def read_data(self):\n",
        "      dataset = pd.read_excel(self.path)\n",
        "      return dataset\n",
        "\n",
        "  def get_text_column(self, dataset, remove_list):\n",
        "    data = dataset.drop(columns=remove_list, axis=1)\n",
        "    return data"
      ]
    }
  ]
}