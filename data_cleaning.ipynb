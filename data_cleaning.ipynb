{
  "nbformat": 4,
  "nbformat_minor": 0,
  "metadata": {
    "colab": {
      "name": "data_cleaning.ipynb",
      "provenance": []
    },
    "kernelspec": {
      "name": "python3",
      "display_name": "Python 3"
    },
    "language_info": {
      "name": "python"
    }
  },
  "cells": [
    {
      "cell_type": "code",
      "source": [
        "import re\n",
        "import string"
      ],
      "metadata": {
        "id": "_q-rWSYQ4Sbu"
      },
      "execution_count": 3,
      "outputs": []
    },
    {
      "cell_type": "code",
      "execution_count": 4,
      "metadata": {
        "id": "W7Q5MaYX273a"
      },
      "outputs": [],
      "source": [
        "class Data_Cleaning():\n",
        "  def __init__(self, data):\n",
        "    self.text = data\n",
        "    self.text_list = []\n",
        "\n",
        "  def get_lowercase(self):\n",
        "    for txt in self.text:\n",
        "      text = txt.lower()\n",
        "      self.text_list.append(text)\n",
        "    self.text = self.text_list\n",
        "    self.text_list = []\n",
        "    return\n",
        "\n",
        "  def remove_newline(self):\n",
        "    for txt in self.text:\n",
        "      text = re.sub('\\s+', ' ', txt)\n",
        "      text = ''.join(text)\n",
        "      self.text_list.append(text)\n",
        "    self.text = self.text_list\n",
        "    self.text_list = []\n",
        "    return\n",
        "    \n",
        "  def remove_email(self):\n",
        "    for txt in self.text:\n",
        "      text = re.sub(r'[A-Za-z0-9]*@[A-Za-z]*\\.?[A-Za-z0-9]*', \"\", txt)\n",
        "      self.text_list.append(text)\n",
        "    self.text = self.text_list\n",
        "    self.text_list = []\n",
        "    return\n",
        "\n",
        "  def remove_punctuation(self):\n",
        "    for txt in self.text:\n",
        "      text = txt.translate(str.maketrans('', '', string.punctuation))\n",
        "      self.text_list.append(text)\n",
        "    self.text = self.text_list\n",
        "    self.text_list = []\n",
        "    return\n",
        "    \n",
        "  def clean_dataset(self):\n",
        "    # make all chars inside text in lower case\n",
        "    self.get_lowercase()\n",
        "    # make all text in one line\n",
        "    self.remove_newline()\n",
        "    # remove email format from text\n",
        "    self.remove_email()\n",
        "    # remove all bunctuations from text\n",
        "    self.remove_punctuation()\n",
        "    return self.text"
      ]
    },
    {
      "cell_type": "code",
      "source": [
        ""
      ],
      "metadata": {
        "id": "s3hc5L5o4jh2"
      },
      "execution_count": null,
      "outputs": []
    }
  ]
}